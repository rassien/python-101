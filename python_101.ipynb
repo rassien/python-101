{
 "cells": [
  {
   "cell_type": "markdown",
   "metadata": {},
   "source": [
    "<div style=\"\n",
    "    background-image: url('https://img.freepik.com/free-photo/digital-art-snake-illustration_23-2151674350.jpg?t=st=1739106492~exp=1739110092~hmac=67736a7b58bb06face6ead96b5a8afab29373a81c2e88c162063b438892cbf2f&w=996');\n",
    "    background-size: cover;\n",
    "    background-position: center;\n",
    "    height: 380px;\n",
    "    width: 100%;\n",
    "    display: flex;\n",
    "    align-items: center;\n",
    "    padding-left: 20px;  \n",
    "    color: white;\n",
    "    border-radius: 10px;\">\n",
    "    \n",
    "<span style=\"font-weight: bold; font-size: 30px;\">🎯 Python Programlamaya Giriş</span>\n",
    "\n",
    "</div>\n"
   ]
  },
  {
   "cell_type": "markdown",
   "metadata": {},
   "source": [
    "## Python Nedir?\n",
    "Python, yüksek seviyeli, yorumlanabilir, genel amaçlı ve nesne yönelimli (OOP) bir programlama dilidir. 1991 yılında Guido van Rossum tarafından geliştirilmiştir. Basit ve okunabilir sözdizimi, geniş kütüphane desteği ve esnek yapısı sayesinde dünya çapında en popüler dillerden biri haline gelmiştir.\n",
    "\n",
    "## Python Neden Bu Kadar Popüler?\n",
    "Python, aşağıdaki nedenlerden dolayı yaygın olarak kullanılır:\n",
    "\n",
    "1. Kolay Öğrenilir ve Kullanılır\n",
    "\n",
    "    - Basit ve okunaklı bir sözdizimine sahiptir.\n",
    "    - Yeni başlayanlar için idealdir.\n",
    "2. Geniş Kütüphane Desteği\n",
    "\n",
    "    - NumPy, Pandas (Veri Analizi)\n",
    "    - Matplotlib, Seaborn (Veri Görselleştirme)\n",
    "    - TensorFlow, PyTorch (Makine Öğrenimi)\n",
    "    - Django, Flask, FastAPI (Web Geliştirme)\n",
    "    - Selenium, Scrapy (Web Scraping)\n",
    "\n",
    "3. Çok Amaçlı Kullanım\n",
    "\n",
    "    - Veri bilimi, yapay zeka, web geliştirme, oyun geliştirme, otomasyon, gömülü sistemler gibi birçok alanda kullanılabilir.\n",
    "4. Platform Bağımsızdır\n",
    "\n",
    "    - Windows, macOS, Linux gibi farklı işletim sistemlerinde çalışabilir.\n",
    "5. Topluluk Desteği Güçlüdür\n",
    "\n",
    "    - Büyük bir açık kaynak topluluğu sayesinde sürekli gelişmekte ve genişlemektedir.\n"
   ]
  },
  {
   "cell_type": "markdown",
   "metadata": {},
   "source": [
    "### Önkoşullar\n",
    "- Temel Python sözdizimi\n",
    "\n",
    "- Kütüphaneleri yükleyin:\n",
    "\n",
    "    - pip install numpy pandas matplotlib \n",
    "\n",
    "- Jupyter Notebook temelleri."
   ]
  },
  {
   "cell_type": "markdown",
   "metadata": {},
   "source": [
    "## Kütüphaneleri İçe Aktar"
   ]
  },
  {
   "cell_type": "code",
   "execution_count": 27,
   "metadata": {},
   "outputs": [],
   "source": [
    "import pandas as pd\n",
    "import numpy as np"
   ]
  },
  {
   "cell_type": "markdown",
   "metadata": {},
   "source": [
    "## 1. Python'da Veri Türlerini Anlamak"
   ]
  },
  {
   "cell_type": "markdown",
   "metadata": {},
   "source": [
    "### 1.1 Sayısal Tipler\n",
    "\n",
    "- **Integers (int):** Tam sayılar (örn. 5, -3).\n",
    "\n",
    "- **Floats (float):** Ondalık sayılar (örn. 3,14, -0,001).\n",
    "\n",
    "- **Complex (complex):** Gerçek ve hayali kısımları olan sayılar (örn. 2 + 3j).\n",
    "\n",
    "\n"
   ]
  },
  {
   "cell_type": "code",
   "execution_count": null,
   "metadata": {},
   "outputs": [],
   "source": [
    "# Örnek\n",
    "\n",
    "# Veri türlerini kontrol edin\n",
    "a = 5\n",
    "b = 3.14\n",
    "c = 2 + 3j     \n",
    "print(f'{type(a)} --> a = {a}')  # <class 'int'>\n",
    "print(f'{type(b)} --> b = {b}')  # <class 'float'>\n",
    "print(f'{type(c)} --> d = {c}')  # <class 'complex'>"
   ]
  },
  {
   "cell_type": "code",
   "execution_count": null,
   "metadata": {},
   "outputs": [],
   "source": [
    "# Örnek\n",
    "height = 15.5\n",
    "weight = 250.0\n",
    "print(f'{type(height)} --> height = {height}')  # <class 'float'>\n",
    "print(f'{type(weight)} --> weight = {weight}')  # <class 'float'>"
   ]
  },
  {
   "cell_type": "code",
   "execution_count": null,
   "metadata": {},
   "outputs": [],
   "source": [
    "# iki sayı toplama işlemi\n",
    "print(a + b) # 8.14\n",
    "\n",
    "# iki sayı arasındaki fark işlemi\n",
    "print(a - b) # 1.86\n",
    "\n",
    "# çarpma işlemi\n",
    "print(a * b) # 15.7\n",
    "\n",
    "# bölme işlemi\n",
    "print(a / b) # 1.592356687898089\n",
    "\n",
    "# taban bölümü\n",
    "print(a // b) # 1.0\n",
    "\n",
    "# mod alma\n",
    "print(a % b) # 1.8600000000000003\n",
    "\n",
    "# üs alma\n",
    "print(a ** b) # 1714.116277206017\n",
    "\n",
    "# int + str \n",
    "# print(a + “5”) TypeError: unsupported operand type(s) for +: 'int' and 'str'"
   ]
  },
  {
   "cell_type": "markdown",
   "metadata": {},
   "source": [
    "### 1.2 Dizi Türleri\n",
    "- **Strings (str):**  Sıralı karakter dizisi **(örn., “Merhaba”)**.\n",
    "\n",
    "- **Lists (list):** Sıralı, değiştirilebilir öğe koleksiyonu **(örn., [1, 2, 3])**.\n",
    "\n",
    "- **Tuples (tuple):** Sıralı, değişmez öğe koleksiyonu **(örn., (1, 2, 3))**."
   ]
  },
  {
   "cell_type": "code",
   "execution_count": null,
   "metadata": {},
   "outputs": [],
   "source": [
    "# List , Tuple, Set \n",
    "s = \"Hello\"          # str\n",
    "l = [1, 2, 3]        # list\n",
    "t = (1, 2, 3)        # tuple\n",
    "\n",
    "print(type(s))  # <class 'str'> \n",
    "print(type(l))  # <class 'list'> \n",
    "print(type(t))  # <class 'tuple'>"
   ]
  },
  {
   "cell_type": "code",
   "execution_count": null,
   "metadata": {},
   "outputs": [],
   "source": [
    "# Örnek\n",
    "print(\"15\" + \"5\")  # 155 <class 'str'>\n",
    "print(l + [4, 5])  # [1, 2, 3, 4, 5] <class 'list'>\n",
    "print(t + (4, 5))  # (1, 2, 3, 4, 5) <class 'tuple'>\n",
    "print(l * 2)       # [1, 2, 3, 1, 2, 3] <class 'list'>\n",
    "print(t * 2)       # (1, 2, 3, 1, 2, 3) <class 'tuple'>\n",
    "print(s * 2)       # HelloHello <class 'str'>\n"
   ]
  },
  {
   "cell_type": "code",
   "execution_count": null,
   "metadata": {},
   "outputs": [],
   "source": [
    "print(l[0])        # 1\n",
    "print(t[0])        # 1\n",
    "print(s[:3])       # Hel\n",
    "print(s[::2])      # Hlo\n",
    "print(l[1:])       # [2, 3]\n",
    "print(t[:2])       # (1, 2)\n",
    "print(s[::-1])     # olleH\n",
    "print(l[::-1])     # [3, 2, 1]\n",
    "print(t[::-1])     # (3, 2, 1)\n",
    "print(len(s))      # 5\n",
    "print(len(l))      # 3"
   ]
  },
  {
   "cell_type": "markdown",
   "metadata": {},
   "source": [
    "**Listeler** ve **Tuplelar** Arasındaki Temel Farklar:\n",
    "\n",
    "- **Listeler** değiştirilebilir (oluşturulduktan sonra değiştirilebilir).\n",
    "    - **Sıralıdır** (öğelerin sırası korunur).\n",
    "    - **Değişebilir:** Öğeleri ekleyebilir, kaldırabilir veya güncelleyebilirsiniz.\n",
    "    - **Tekrar eden** öğeler olabilir.\n",
    "    - **İndekslemeyi** ve **dilimlemeyi** destekler.\n",
    "\n",
    "- **Tuples** değişmezdir (oluşturulduktan sonra değiştirilemez).\n",
    "    - **Sıralıdır** (öğelerin sırası korunur).\n",
    "    - **Değişmez:** Öğeler eklenemez, kaldırılamaz veya değiştirilemez.\n",
    "    - **Tekrar eden** elemanlar olabilir.\n",
    "    - **Daha hızlıdır** ve genellikle **sabit veriler** için kullanılır."
   ]
  },
  {
   "cell_type": "code",
   "execution_count": null,
   "metadata": {},
   "outputs": [],
   "source": [
    "print(l)\n",
    "l[0] = 10 # Geçerli: Listeler değiştirilebilir\n",
    "# t[0] = 10 # Geçersiz: Tuple'lar değişmezdir (hata oluşturur)\n",
    "print(l) # [10, 2, 3]"
   ]
  },
  {
   "cell_type": "markdown",
   "metadata": {},
   "source": [
    "### 1.3 Sözlük Türü\n",
    "**Sözlük (dict):** Anahtar-değer çiftlerinin sırasız koleksiyonu (örneğin, {'ad': 'Alice', 'yaş': 25}).\n",
    "\n",
    "- **Sıralı** (Python 3.7+'da sıralıdır, eski sürümlerde sıralı değildir).\n",
    "- **Değişmez:** Yeni bir anahtar-değer çifti eklenebilir, değiştirilebilir veya silinebilir.\n",
    "- Anahtarlar(Key) **tektir**, ancak değerler(value) **tekrarlanabilir**.\n",
    "- **Anahtar-değer (key-value)** mantığı ile çalışır."
   ]
  },
  {
   "cell_type": "code",
   "execution_count": null,
   "metadata": {},
   "outputs": [],
   "source": [
    "d = {'name': 'Alice', 'age': 25}  # dict\n",
    "print(type(d))  # <class 'dict'>"
   ]
  },
  {
   "cell_type": "markdown",
   "metadata": {},
   "source": [
    "**Sözlük İşlemleri**"
   ]
  },
  {
   "cell_type": "code",
   "execution_count": null,
   "metadata": {},
   "outputs": [],
   "source": [
    "# Değere anahtarla erişin\n",
    "print(d['name']) # Alice\n",
    "\n",
    "# Yeni bir anahtar-değer çifti ekleyin\n",
    "d['şehir'] = 'New York'\n",
    "\n",
    "# Bir anahtarın var olup olmadığını kontrol edin\n",
    "print('age' in d) # Doğru"
   ]
  },
  {
   "cell_type": "markdown",
   "metadata": {},
   "source": [
    "### 1.4 Set Türleri\n",
    "**Set (küme):** Benzersiz öğelerden oluşan sırasız koleksiyon (örneğin, {1, 2, 3}).\n",
    "\n",
    "**Dondurulmuş Küme (frozenset):** Bir kümenin değişmez versiyonu.\n",
    "\n",
    "- **Sırasız** (öğelerin belirli bir sırası yoktur).\n",
    "- **Değişmez:** Yeni elemanlar eklenebilir veya çıkarılabilir.\n",
    "- **Tekrar eden** elemanlar içermez.\n",
    "- Matematiksel küme işlemleri **(birleşim, kesişim)** gerçekleştirilebilir."
   ]
  },
  {
   "cell_type": "code",
   "execution_count": null,
   "metadata": {},
   "outputs": [],
   "source": [
    "s = {1, 2, 3}          # set\n",
    "fs = frozenset({1, 2}) # frozenset\n",
    "print(type(s), type(fs))  # <class 'set'> <class 'frozenset'>"
   ]
  },
  {
   "cell_type": "markdown",
   "metadata": {},
   "source": [
    "**Set İşlemleri**"
   ]
  },
  {
   "cell_type": "code",
   "execution_count": null,
   "metadata": {},
   "outputs": [],
   "source": [
    "# Bir öğe ekleyin\n",
    "s.add(4)\n",
    "\n",
    "# Bir öğeyi kaldır\n",
    "s.remove(1)\n",
    "\n",
    "# Set işlemleri\n",
    "a = {1, 2, 3}\n",
    "b = {3, 4, 5}\n",
    "print(a.union(b))        # {1, 2, 3, 4, 5}\n",
    "print(a.kesişim(b)) # {3}"
   ]
  },
  {
   "cell_type": "markdown",
   "metadata": {},
   "source": [
    "### 1.5 Boolean Türü\n",
    "**Boolean (bool):** Doğruluk değerlerini (Doğru veya Yanlış) temsil eder."
   ]
  },
  {
   "cell_type": "code",
   "execution_count": null,
   "metadata": {},
   "outputs": [],
   "source": [
    "is_valid = True  # bool\n",
    "print(type(is_valid))  # <class 'bool'>"
   ]
  },
  {
   "cell_type": "markdown",
   "metadata": {},
   "source": [
    "**Boolean İşlemleri**"
   ]
  },
  {
   "cell_type": "code",
   "execution_count": null,
   "metadata": {},
   "outputs": [],
   "source": [
    "# Mantıksal VE\n",
    "print(True and False) # Yanlış\n",
    "\n",
    "# Mantıksal VEYA\n",
    "print(True or False) # Doğru\n",
    "\n",
    "# Mantıksal DEĞİL\n",
    "print(not True) # Yanlış"
   ]
  },
  {
   "cell_type": "markdown",
   "metadata": {},
   "source": [
    "### 1.6 None Tipi\n",
    "**None:** Bir değerin yokluğunu veya null değeri temsil eder."
   ]
  },
  {
   "cell_type": "code",
   "execution_count": null,
   "metadata": {},
   "outputs": [],
   "source": [
    "x = None  # NoneType\n",
    "print(type(x))  # <class 'NoneType'>"
   ]
  },
  {
   "cell_type": "markdown",
   "metadata": {},
   "source": [
    "### 1.7 Tür Dönüşümü\n",
    "Yerleşik fonksiyonları kullanarak veri türleri arasında dönüşüm yapabilirsiniz:\n",
    "\n",
    "**int(), float(), str(), list(), tuple(), set(), dict(), vb.**"
   ]
  },
  {
   "cell_type": "code",
   "execution_count": null,
   "metadata": {},
   "outputs": [],
   "source": [
    "# Convert data types\n",
    "a = str(a)\n",
    "b = str(b)\n",
    "print(f'{type(a)} --> a = {a}')  # <class 'str'>\n",
    "print(f'{type(b)} --> b = {b}')  # <class 'str'>\n",
    "\n",
    "height = \"15.5\"\n",
    "weight = \"250.0\"\n",
    "print(f'{type(height)} --> height = {height}')  # <class 'str'>\n",
    "print(f'{type(weight)} --> weight = {weight}')  # <class 'str'>"
   ]
  },
  {
   "cell_type": "code",
   "execution_count": null,
   "metadata": {},
   "outputs": [],
   "source": [
    "# Convert string to integer\n",
    "num_str = \"123\"\n",
    "num_int = int(num_str)\n",
    "\n",
    "# Convert list to set\n",
    "my_list = [1, 2, 2, 3]\n",
    "my_set = set(my_list)  # {1, 2, 3} (duplicates removed)"
   ]
  },
  {
   "cell_type": "markdown",
   "metadata": {},
   "source": [
    "### 1.8 Veri Türleri Neden Önemlidir?\n",
    "**Bellek Verimliliği:** Doğru türü kullanmak (örn. int32 vs int64) bellek tasarrufu sağlar.\n",
    "\n",
    "**Performans:** Sayısal türler (örn. numpy dizileri) üzerindeki işlemler listelerden daha hızlıdır.\n",
    "\n",
    "**İşlevsellik:** Belirli türler özel işlemleri mümkün kılar (örn. tarih-saat işlemleri)."
   ]
  },
  {
   "cell_type": "markdown",
   "metadata": {},
   "source": [
    "## 2. Veri Türlerinin Uygulamaları"
   ]
  },
  {
   "cell_type": "markdown",
   "metadata": {},
   "source": [
    "### 2.1 Listeler\n",
    "**Kullanım Örneği:** Sıralı öğe koleksiyonlarının depolanması ve işlenmesi."
   ]
  },
  {
   "cell_type": "code",
   "execution_count": null,
   "metadata": {},
   "outputs": [],
   "source": [
    "# Öğrenci isim listesi\n",
    "students = ['Alice', 'Bob', 'Charlie']\n",
    "students.append('David') # Yeni bir öğrenci ekle\n",
    "print(students) # ['Alice', 'Bob', 'Charlie', 'David']"
   ]
  },
  {
   "cell_type": "code",
   "execution_count": null,
   "metadata": {},
   "outputs": [],
   "source": [
    "# Boş liste\n",
    "empty_list = []\n",
    "\n",
    "# Farklı veri türlerine sahip liste\n",
    "mixed_list = [1, \"Python\", 3.14, True]\n",
    "\n",
    "# Liste içinde liste (iç içe liste)\n",
    "nested_list = [[1, 2], [3, 4]]"
   ]
  },
  {
   "cell_type": "code",
   "execution_count": null,
   "metadata": {},
   "outputs": [],
   "source": [
    "my_list = [10, 20, 30, 40, 50]\n",
    "\n",
    "# İlk eleman\n",
    "print(my_list[0]) # 10\n",
    "\n",
    "# Son öğe\n",
    "print(my_list[-1]) # 50\n",
    "\n",
    "# Belirli bir aralık (dilimleme)\n",
    "print(my_list[1:4]) # [20, 30, 40]"
   ]
  },
  {
   "cell_type": "code",
   "execution_count": null,
   "metadata": {},
   "outputs": [],
   "source": [
    "my_list = [1, 2, 3, 4]\n",
    "\n",
    "# İlk öğeyi değiştir\n",
    "my_list[0] = 100\n",
    "print(my_list) # [100, 2, 3, 4]\n",
    "\n",
    "# Belirli bir aralığı değiştirin\n",
    "my_list[1:3] = [200, 300]\n",
    "print(my_list) # [100, 200, 300, 4]"
   ]
  },
  {
   "cell_type": "markdown",
   "metadata": {},
   "source": [
    "### 2.1.1 Liste Yöntemleri\n",
    "\n",
    "\n",
    " **append():** Listenin sonuna tek bir eleman ekler.\n",
    "\n",
    " **extend():** Başka bir listenin elemanlarını listenin sonuna ekler.\n",
    "\n",
    " **insert():** Belirli bir dizine bir eleman ekler."
   ]
  },
  {
   "cell_type": "code",
   "execution_count": null,
   "metadata": {},
   "outputs": [],
   "source": [
    "my_list = [1, 2, 3]\n",
    "\n",
    "# append()\n",
    "my_list.append(4)\n",
    "print(my_list) # [1, 2, 3, 4]\n",
    "\n",
    "# extend()\n",
    "my_list.extend([5, 6])\n",
    "print(my_list) # [1, 2, 3, 4, 5, 6]\n",
    "\n",
    "# insert()\n",
    "my_list.insert(1, 100) # 1 dizinine 100 değerini ekler.\n",
    "print(my_list) # [1, 100, 2, 3, 4, 5, 6]"
   ]
  },
  {
   "cell_type": "markdown",
   "metadata": {},
   "source": [
    "### 2.1.2 Bir Öğenin Silinmesi\n",
    "**remove():** Belirli bir değeri kaldırır.\n",
    "\n",
    "**pop():** Belirli bir indeksteki öğeyi siler ve döndürür (varsayılan: son öğe).\n",
    "\n",
    "**del():** Belirli bir indeksteki elemanı siler.\n",
    "\n",
    "**clear():** Tüm elemanları siler."
   ]
  },
  {
   "cell_type": "code",
   "execution_count": null,
   "metadata": {},
   "outputs": [],
   "source": [
    "my_list = [1, 2, 3, 4, 5]\n",
    "\n",
    "# remove()\n",
    "my_list.remove(3) # 3 değerini kaldırır\n",
    "print(my_list) # [1, 2, 4, 5]\n",
    "\n",
    "# pop()\n",
    "popped_item = my_list.pop(1) # 1. dizindeki öğeyi siler\n",
    "print(popped_item) # 2\n",
    "print(my_list) # [1, 4, 5]\n",
    "\n",
    "# del\n",
    "del my_list[0] # 0 dizinindeki öğeyi siler\n",
    "print(my_list) # [4, 5]\n",
    "\n",
    "# clear()\n",
    "my_list.clear()\n",
    "print(my_list) # []"
   ]
  },
  {
   "cell_type": "markdown",
   "metadata": {},
   "source": [
    "### 2.1.3 Liste Sıralama\n",
    "**sort():** Listeyi sıralar (varsayılan: en küçükten en büyüğe).\n",
    "\n",
    "**reverse():** Listeyi tersine çevirir."
   ]
  },
  {
   "cell_type": "code",
   "execution_count": null,
   "metadata": {},
   "outputs": [],
   "source": [
    "my_list = [3, 1, 4, 1, 5, 9]\n",
    "\n",
    "# sort()\n",
    "my_list.sort()\n",
    "print(my_list) # [1, 1, 3, 4, 5, 9]\n",
    "\n",
    "# reverse()\n",
    "my_list.reverse()\n",
    "print(my_list) # [9, 5, 4, 3, 1, 1]"
   ]
  },
  {
   "cell_type": "markdown",
   "metadata": {},
   "source": [
    "### 2.1.4 Diğer Yöntemler\n",
    "**index():** Belirli bir değerin indeksini döndürür.\n",
    "\n",
    "**count():** Belirli bir değerin listede kaç kez göründüğünü sayar.\n",
    "\n",
    "**copy():** Listenin bir kopyasını oluşturur."
   ]
  },
  {
   "cell_type": "code",
   "execution_count": null,
   "metadata": {},
   "outputs": [],
   "source": [
    "my_list = [1, 2, 3, 2, 4]\n",
    "\n",
    "# index()\n",
    "print(my_list.index(3))  # 2\n",
    "\n",
    "# count()\n",
    "print(my_list.count(2))  # 2\n",
    "\n",
    "# copy()\n",
    "new_list = my_list.copy()\n",
    "print(new_list)  # [1, 2, 3, 2, 4]"
   ]
  },
  {
   "cell_type": "markdown",
   "metadata": {},
   "source": [
    "### 2.1.5 List Comprehensions"
   ]
  },
  {
   "cell_type": "code",
   "execution_count": null,
   "metadata": {},
   "outputs": [],
   "source": [
    "# 1'den 10'a kadar kareli sayılar\n",
    "kareler = [x**2 for x in range(1, 11)]\n",
    "print(kareler) # [1, 4, 9, 16, 25, 36, 49, 64, 81, 100]\n",
    "\n",
    "# Çift sayılar\n",
    "evens = [x for x in range(10) if x %2 == 0]\n",
    "print(evens) # [0, 2, 4, 6, 8]"
   ]
  },
  {
   "cell_type": "markdown",
   "metadata": {},
   "source": [
    "### 2.1.6 İç İçe Listeler"
   ]
  },
  {
   "cell_type": "code",
   "execution_count": null,
   "metadata": {},
   "outputs": [],
   "source": [
    "matrix = [\n",
    "    [1, 2, 3],\n",
    "    [4, 5, 6],\n",
    "    [7, 8, 9]\n",
    "]\n",
    "\n",
    "# İlk satırın ilk öğesi\n",
    "print(matrix[0][0]) # 1\n",
    "\n",
    "# Tüm satırların ikinci elemanları\n",
    "second_column = [row[1] for row in matrix]\n",
    "print(second_column) # [2, 5, 8]"
   ]
  },
  {
   "cell_type": "markdown",
   "metadata": {},
   "source": [
    "### 2.1.Alıştırmalar\n",
    "1. Bir liste oluşturun ve 5 farklı şehir ismi ekleyin.\n",
    "\n",
    "1. Listenin ortasına yeni bir şehir ekleyin.\n",
    "\n",
    "1. Listenin son iki öğesini silin.\n",
    "\n",
    "1. Listedeki öğeleri alfabetik sıraya dizin.\n",
    "\n",
    "1. Liste oluşturucuları kullanarak 1'den 20'ye kadar çift sayıların karesini içeren bir liste oluşturun."
   ]
  },
  {
   "cell_type": "markdown",
   "metadata": {},
   "source": [
    "## 2.2 Sözlükler\n",
    "**Kullanım Örneği:** Kullanıcı profilleri gibi anahtar-değer çiftlerinin saklanması."
   ]
  },
  {
   "cell_type": "code",
   "execution_count": null,
   "metadata": {},
   "outputs": [],
   "source": [
    "# Kullanıcı profili\n",
    "user = {'name': 'Alice', 'age': 25, 'city': 'New York'}\n",
    "print(user['name'])  # Alice"
   ]
  },
  {
   "cell_type": "markdown",
   "metadata": {},
   "source": [
    "### 2.2.1 Sözlük Öğelerine Erişim"
   ]
  },
  {
   "cell_type": "code",
   "execution_count": null,
   "metadata": {},
   "outputs": [],
   "source": [
    "my_dict = {\n",
    "    \"name\": \"Alice\",\n",
    "    \"age\": 25,\n",
    "    \"city\": \"New York\"\n",
    "}\n",
    "\n",
    "# Bir anahtar kullanarak değere erişin\n",
    "print(my_dict[\"name\"]) # Alice\n",
    "\n",
    "# get() yöntemiyle erişim (anahtar yoksa None döndürür)\n",
    "print(my_dict.get(\"age\")) # 25\n",
    "print(my_dict.get(\"country\")) # None"
   ]
  },
  {
   "cell_type": "markdown",
   "metadata": {},
   "source": [
    "### 2.2.2 Sözlük Öğelerinin Değiştirilmesi"
   ]
  },
  {
   "cell_type": "code",
   "execution_count": null,
   "metadata": {},
   "outputs": [],
   "source": [
    "my_dict = {\n",
    "    \"name\": \"Alice\",\n",
    "    \"age\": 25,\n",
    "    \"city\": \"New York\"\n",
    "}\n",
    "\n",
    "# Değer güncellemesi\n",
    "my_dict[\"age\"] = 26\n",
    "\n",
    "# Yeni bir anahtar-değer çifti ekleme\n",
    "my_dict[\"country\"] = \"USA\"\n",
    "\n",
    "print(my_dict)\n",
    "# {'name': 'Alice', 'age': 26, 'city': 'New York', 'country': 'USA'}"
   ]
  },
  {
   "cell_type": "markdown",
   "metadata": {},
   "source": [
    "### 2.2.3 Eleman Ekleme ve Güncelleme\n",
    "**update():** Başka bir sözlüğün anahtar-değer çiftlerini ekler veya günceller."
   ]
  },
  {
   "cell_type": "code",
   "execution_count": null,
   "metadata": {},
   "outputs": [],
   "source": [
    "my_dict = {\n",
    "    \"name\": \"Alice\",\n",
    "    \"age\": 25\n",
    "}\n",
    "\n",
    "# update() ile ekleme/güncelleme\n",
    "my_dict.update({\"age\": 26, \"country\": \"New York\"})\n",
    "print(my_dict)\n",
    "# {'name': 'Alice', 'age': 26, 'country': 'New York'}"
   ]
  },
  {
   "cell_type": "markdown",
   "metadata": {},
   "source": [
    "### 2.2.4 Eleman Silme\n",
    "**pop():** Belirli bir anahtarı siler ve değerini döndürür.\n",
    "\n",
    "**popitem():** Eklenen son anahtar-değer çiftini siler ve değerini döndürür.\n",
    "\n",
    "**del():** Belirli bir anahtarı siler.\n",
    "\n",
    "**clear():** Tüm anahtar-değer çiftlerini siler."
   ]
  },
  {
   "cell_type": "code",
   "execution_count": null,
   "metadata": {},
   "outputs": [],
   "source": [
    "my_dict = {\n",
    "    \"name\": \"Alice\",\n",
    "    \"age\": 25,\n",
    "    \"city\": \"New York\"\n",
    "}\n",
    "\n",
    "# pop()\n",
    "age = my_dict.pop(\"age\")\n",
    "print(age)  # 25\n",
    "print(my_dict)  # {'name': 'Alice', 'city': 'New York'}\n",
    "\n",
    "# popitem()\n",
    "last_item = my_dict.popitem()\n",
    "print(last_item)  # ('city', 'New York')\n",
    "print(my_dict)  # {'name': 'Alice'}\n",
    "\n",
    "# del\n",
    "del my_dict[\"name\"]\n",
    "print(my_dict)  # {}\n",
    "\n",
    "# clear()\n",
    "my_dict.clear()\n",
    "print(my_dict)  # {}"
   ]
  },
  {
   "cell_type": "markdown",
   "metadata": {},
   "source": [
    "### 2.2.5 Anahtarlara ve Değerlere Erişim\n",
    "**keys():** Tüm anahtarları döndürür.\n",
    "\n",
    "**values():** Tüm değerleri döndürür.\n",
    "\n",
    "**items():** Tüm anahtar-değer çiftlerini döndürür."
   ]
  },
  {
   "cell_type": "code",
   "execution_count": null,
   "metadata": {},
   "outputs": [],
   "source": [
    "my_dict = {\n",
    "    \"name\": \"Alice\",\n",
    "    \"age\": 25,\n",
    "    \"city\": \"New York\"\n",
    "}\n",
    "\n",
    "# keys()\n",
    "print(my_dict.keys())  # dict_keys(['name', 'age', 'city'])\n",
    "\n",
    "# values()\n",
    "print(my_dict.values())  # dict_values(['Alice', 25, 'New York'])\n",
    "\n",
    "# items()\n",
    "print(my_dict.items())\n",
    "# dict_items([('name', 'Alice'), ('age', 25), ('city', 'New York')])"
   ]
  },
  {
   "cell_type": "markdown",
   "metadata": {},
   "source": [
    "### 2.2.6 Diğer Yöntemler\n",
    "**copy():** Sözlüğün bir kopyasını oluşturur.\n",
    "\n",
    "**fromkeys():** Belirli anahtarlar için varsayılan bir değerle yeni bir sözlük oluşturur."
   ]
  },
  {
   "cell_type": "code",
   "execution_count": null,
   "metadata": {},
   "outputs": [],
   "source": [
    "# copy()\n",
    "new_dict = my_dict.copy()\n",
    "print(new_dict)  # {'name': 'Alice', 'age': 25, 'city': 'New York'}\n",
    "\n",
    "# fromkeys()\n",
    "keys = [\"name\", \"age\", \"city\"]\n",
    "default_value = \"Unknown\"\n",
    "new_dict = dict.fromkeys(keys, default_value)\n",
    "print(new_dict)  # {'name': 'Unknown', 'age': 'Unknown', 'city': 'Unknown'}"
   ]
  },
  {
   "cell_type": "markdown",
   "metadata": {},
   "source": [
    "### 2.2.9 Dictionary Comprehensions"
   ]
  },
  {
   "cell_type": "code",
   "execution_count": null,
   "metadata": {},
   "outputs": [],
   "source": [
    "# Kareli sayılar için sözlük\n",
    "squares = {x: x**2 for x in range(1, 6)}\n",
    "print(squares) # {1: 1, 2: 4, 3: 9, 4: 16, 5: 25}\n",
    "\n",
    "# Çift sayılar için sözlük\n",
    "evens = {x: \"Even\" for x in range(10) if x % 2 == 0}\n",
    "print(evens) # {0: 'Even', 2: 'Even', 4: 'Even', 6: 'Even', 8: 'Even'}"
   ]
  },
  {
   "cell_type": "markdown",
   "metadata": {},
   "source": [
    "### 2.2.10 İç İçe Sözlük Yapısı"
   ]
  },
  {
   "cell_type": "code",
   "execution_count": null,
   "metadata": {},
   "outputs": [],
   "source": [
    "students = {\n",
    "    \"Alice\": {\n",
    "        \"age\": 25,\n",
    "        \"city\": \"New York\"\n",
    "    },\n",
    "    \"Bob\": {\n",
    "        \"age\": 30,\n",
    "        \"city\": \"london\"\n",
    "    }\n",
    "}\n",
    "\n",
    "# Alice'in şehri\n",
    "print(students[\"Alice\"][\"city\"]) # New York\n",
    "\n",
    "# Bob'un yaşı\n",
    "print(students[\"Bob\"][\"age\"]) # 30"
   ]
  },
  {
   "cell_type": "markdown",
   "metadata": {},
   "source": [
    "### 2.2.Alıştırmalar\n",
    "1.  Bir sözlük oluşturun ve 3 farklı kişinin isimlerini ve yaşlarını ekleyin.\n",
    "\n",
    "2.  Sözlüğe yeni bir kişi ekleyin.\n",
    " \n",
    "3.  Belirli bir kişinin yaşını güncelleyin.\n",
    "\n",
    "4.  Sözlükten bir kişiyi silin.\n",
    "\n",
    "5.  Sözlük oluşturucuları kullanarak 1'den 5'e kadar sayı karelerinden oluşan bir sözlük oluşturun."
   ]
  },
  {
   "cell_type": "markdown",
   "metadata": {},
   "source": [
    "## 2.3 Sets\n",
    "**Kullanım Örneği:** Yinelenenleri kaldırma veya set işlemleri gerçekleştirme."
   ]
  },
  {
   "cell_type": "code",
   "execution_count": null,
   "metadata": {},
   "outputs": [],
   "source": [
    "# Listeden yinelenenleri kaldırın\n",
    "numbers = [1, 2, 2, 3, 4, 4]\n",
    "unique_numbers = set(numbers)  # {1, 2, 3, 4}"
   ]
  },
  {
   "cell_type": "markdown",
   "metadata": {},
   "source": [
    "## 2.4 Booleans\n",
    "**Kullanım Örneği:** Kontrol akışı ve koşullu mantık."
   ]
  },
  {
   "cell_type": "code",
   "execution_count": null,
   "metadata": {},
   "outputs": [],
   "source": [
    "# Bir sayının pozitif olup olmadığını kontrol edin\n",
    "num = 10\n",
    "is_positive = num > 0\n",
    "if is_positive:\n",
    "    print(\"The number is positive.\")"
   ]
  },
  {
   "cell_type": "markdown",
   "metadata": {},
   "source": [
    "### Python'da List, set, tuple and dictionary veri türleri\n",
    "\n",
    "| Veri Tipi | Sıralı mı? | Değiştirilebilir mi? | Tekrarlanan öğeler içeriyor mu? | Erişim Yöntemi |\n",
    "|------------|:---------:|:-------------------:|:-------------------------------:|:--------------:|\n",
    "| **list** | ✅ Evet | ✅ Evet | ✅ Evet | İndeks |\n",
    "| **set** | ❌ Hayır | ✅ Evet | ❌ Hayır | Döngü |\n",
    "| **tuple** | ✅ Evet | ❌ Hayır | ✅ Evet | İndeks |\n",
    "| **dict** | ✅ Evet | ✅ Evet | 🔀 Sadece anahtarlar eşsizse | Anahtar |"
   ]
  },
  {
   "cell_type": "markdown",
   "metadata": {},
   "source": [
    "## 2.6 Alıştırmalar\n",
    "1. Bir tamsayı listesi oluşturun ve bunu bir tuple'a dönüştürün.\n",
    "\n",
    "2. Üç kişinin isimlerini ve yaşlarını saklamak için bir sözlük kullanın.\n",
    "\n",
    "3. Yinelenen sayılardan oluşan bir listeden bir küme oluşturun ve benzersiz değerleri yazdırın.\n",
    "\n",
    "4. Boolean girdisi alan ve tersini döndüren bir fonksiyon yazın."
   ]
  }
 ],
 "metadata": {
  "kernelspec": {
   "display_name": "Python 3",
   "language": "python",
   "name": "python3"
  },
  "language_info": {
   "codemirror_mode": {
    "name": "ipython",
    "version": 3
   },
   "file_extension": ".py",
   "mimetype": "text/x-python",
   "name": "python",
   "nbconvert_exporter": "python",
   "pygments_lexer": "ipython3",
   "version": "3.12.8"
  }
 },
 "nbformat": 4,
 "nbformat_minor": 2
}
