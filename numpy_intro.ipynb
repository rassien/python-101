{
 "cells": [
  {
   "cell_type": "markdown",
   "metadata": {},
   "source": [
    "<div style=\"\n",
    "    background-image: url('https://miro.medium.com/v2/resize:fit:1000/1*RY96IbeNH41iTggMlfjI4A.jpeg');\n",
    "    background-size: cover;\n",
    "    background-position: center;\n",
    "    height: 380px;\n",
    "    width: 100%;\n",
    "    display: flex;\n",
    "    align-items: center;\n",
    "    padding-left: 20px;  \n",
    "    color: white;\n",
    "    border-radius: 10px;\">\n",
    "    \n",
    "<span style=\"font-weight: bold; font-size: 30px;\">🎯 3. NumPy Giriş</span>\n",
    "\n",
    "</div>\n"
   ]
  },
  {
   "cell_type": "markdown",
   "metadata": {},
   "source": [
    "## 3.1 NumPy nedir?\n",
    "- Sayısal hesaplama için **çok boyutlu** dizileri destekleyen bir kütüphane.\n",
    "\n",
    "- **NumPy (Numerical Python)** Python'da bilimsel hesaplamalar için bir kütüphanedir.\n",
    "\n",
    "- Temel veri yapısı, **çok boyutlu** dizileri temsil eden ndarray'dir (N boyutlu dizi).\n",
    "\n",
    "- **NumPy**, Python listelerinden **daha hızlı** ve daha **bellek verimlidir**.\n",
    "\n",
    "NumPy, Python paket yöneticisi pip ile kurulabilir:\n",
    "\n",
    "    pip install numpy"
   ]
  },
  {
   "cell_type": "markdown",
   "metadata": {},
   "source": [
    "## 3.2 NumPy Dizileri Oluşturma"
   ]
  },
  {
   "cell_type": "code",
   "execution_count": null,
   "metadata": {},
   "outputs": [],
   "source": [
    "import numpy as np\n",
    "\n",
    "# 1D dizi (vektör)\n",
    "arr1d = np.array([1, 2, 3, 4, 5])\n",
    "print(arr1d)  # [1 2 3 4 5]\n",
    "\n",
    "# 2D dizi (matris)\n",
    "arr2d = np.array([[1, 2, 3], [4, 5, 6]])\n",
    "print(arr2d)\n",
    "# [[1 2 3]\n",
    "#  [4 5 6]]\n",
    "\n",
    "# 3D dizi\n",
    "arr3d = np.array([[[1, 2], [3, 4]], [[5, 6], [7, 8]]])\n",
    "print(arr3d)\n",
    "# [[[1 2]\n",
    "#   [3 4]]\n",
    "#\n",
    "#  [[5 6]\n",
    "#   [7 8]]]"
   ]
  },
  {
   "cell_type": "markdown",
   "metadata": {},
   "source": [
    "## 3.3 Özel Diziler Oluşturma\n",
    "\n",
    "NumPy, özel diziler oluşturmak için çeşitli işlevler sağlar:\n",
    "\n",
    "- **np.zeros():** Tüm öğeleri 0 olan dizi.\n",
    "\n",
    "- **np.ones():** Tüm öğeleri içeren dizi 1.\n",
    "\n",
    "- **np.full():** Tüm öğeleri belirli bir değerle doldurur.\n",
    "\n",
    "- **np.eye():** Birim matrisi (birim matris).\n",
    "\n",
    "- **np.arange():** Belirli bir aralıktaki sayıları içeren dizi.\n",
    "\n",
    "- **np.linspace():** Belirli bir aralıktaki eşit aralıklı sayıların dizisi."
   ]
  },
  {
   "cell_type": "code",
   "execution_count": null,
   "metadata": {},
   "outputs": [],
   "source": [
    "# zeros()\n",
    "zeros_arr = np.zeros((2, 3)) # A 2x3 matris\n",
    "print(zeros_arr)\n",
    "# [[0. 0. 0.]\n",
    "# [0. 0. 0.]]\n",
    "\n",
    "# ones()\n",
    "ones_arr = np.ones((3, 2)) # A 3x2 matris\n",
    "print(ones_arr)\n",
    "# [[1. 1.]\n",
    "# [1. 1.]\n",
    "# [1. 1.]]\n",
    "\n",
    "# full()\n",
    "full_arr = np.full((2, 2), 7) # 2x2 matris, tüm elemanlar 7\n",
    "print(full_arr)\n",
    "# [[7 7]\n",
    "# [7 7]]\n",
    "\n",
    "# eye()\n",
    "identity_matrix = np.eye(3) # 3x3 birim matris\n",
    "print(identity_matrix)\n",
    "# [[1. 0. 0.]\n",
    "# [0. 1. 0.]\n",
    "# [0. 0. 1.]]\n",
    "\n",
    "# arange()\n",
    "range_arr = np.arange(0, 10, 2) # 2 adımlarla 0'dan 10'a\n",
    "print(range_arr) # [0 2 4 6 8]\n",
    "\n",
    "# linspace()\n",
    "linspace_arr = np.linspace(0, 1, 5) # 0 ile 1 arasında 5 eşit parçaya bölünmüş dizi\n",
    "print(linspace_arr) # [0. 0.25 0.5 0.75 1. ]"
   ]
  },
  {
   "cell_type": "markdown",
   "metadata": {},
   "source": [
    "## 3.4 Dizi Nitelikleri\n",
    "\n",
    "NumPy dizileri hakkında bilgi almak için çeşitli özellikler kullanılır:\n",
    "\n",
    "- **shape:** Dizinin boyutlarını verir.\n",
    "\n",
    "- **ndim:** Dizinin boyut sayısını verir.\n",
    "\n",
    "- **size:** Dizideki toplam eleman sayısı verir.\n",
    "\n",
    "- **dtype:** Dizinin veri tipini verir."
   ]
  },
  {
   "cell_type": "code",
   "execution_count": null,
   "metadata": {},
   "outputs": [],
   "source": [
    "arr = np.array([[1, 2, 3], [4, 5, 6]])\n",
    "\n",
    "print(arr.shape) # (2, 3) (2 satır, 3 sütun)\n",
    "print(arr.ndim) # 2 (2D)\n",
    "print(arr.size) # 6 (toplam eleman sayısı)\n",
    "print(arr.dtype) # int64 (veri tipi)"
   ]
  },
  {
   "cell_type": "markdown",
   "metadata": {},
   "source": [
    "## 3.5 Dizi İşlemleri\n",
    "\n",
    "**reshape():** Dizinin boyutlarını değiştirir."
   ]
  },
  {
   "cell_type": "code",
   "execution_count": null,
   "metadata": {},
   "outputs": [],
   "source": [
    "arr = np.arange(1, 7) # [1 2 3 4 5 6]\n",
    "reshaped_arr = arr.reshape(2, 3) # 2x3 matris\n",
    "print(reshaped_arr)\n",
    "# [[1 2 3]\n",
    "# [4 5 6]]"
   ]
  },
  {
   "cell_type": "markdown",
   "metadata": {},
   "source": [
    "## 3.6 Dizi Birleştirme\n",
    "**np.concatenate():** Dizileri birleştirir.\n",
    "\n",
    "**np.vstack():** Dizileri dikey olarak birleştirin.\n",
    "\n",
    "**np.hstack():** Dizileri yatay olarak birleştirir."
   ]
  },
  {
   "cell_type": "code",
   "execution_count": null,
   "metadata": {},
   "outputs": [],
   "source": [
    "arr1 = np.array([[1, 2], [3, 4]])\n",
    "arr2 = np.array([[5, 6], [7, 8]])\n",
    "\n",
    "# concatenate()\n",
    "combined = np.concatenate((arr1, arr2), axis=0)  # Dikey Birleştirme\n",
    "print(combined)\n",
    "# [[1 2]\n",
    "#  [3 4]\n",
    "#  [5 6]\n",
    "#  [7 8]]\n",
    "\n",
    "# concatenate()\n",
    "combined = np.concatenate((arr1, arr2), axis=1)  # Yatay Birleştirme\n",
    "print(combined)\n",
    "# [[1 2 5 6]\n",
    "#  [3 4 7 8]]\n",
    "\n",
    "# vstack()\n",
    "vstacked = np.vstack((arr1, arr2))\n",
    "print(vstacked)\n",
    "# [[1 2]\n",
    "#  [3 4]\n",
    "#  [5 6]\n",
    "#  [7 8]]\n",
    "\n",
    "# hstack()\n",
    "hstacked = np.hstack((arr1, arr2))\n",
    "print(hstacked)\n",
    "# [[1 2 5 6]\n",
    "#  [3 4 7 8]]"
   ]
  },
  {
   "cell_type": "markdown",
   "metadata": {},
   "source": [
    "## 3.7 Matematiksel İşlemler\n",
    "- NumPy dizilerde hızlı matematiksel işlemlere olanak sağlar:\n",
    "\n",
    "    - Toplama, Çıkarma, Çarpma, Bölme: Element element işlemleri.\n",
    "\n",
    "        - **np.sum():** Dizinin toplamını hesaplar.\n",
    "\n",
    "        - **np.mean():** Dizinin ortalamasını hesaplar.\n",
    "\n",
    "        - **np.min()**, **np.max():** Dizinin minimum ve maksimum değerlerini bulur.\n",
    "\n",
    "        - **np.std():** Dizinin standard sapmasını hesaplar."
   ]
  },
  {
   "cell_type": "code",
   "execution_count": null,
   "metadata": {},
   "outputs": [],
   "source": [
    "arr = np.array([1, 2, 3, 4])\n",
    "\n",
    "# Eleman bazında işlemler\n",
    "print(arr + 2) # [3 4 5 6]\n",
    "print(arr * 2) # [2 4 6 8]\n",
    "\n",
    "# Dizi toplamı\n",
    "print(np.sum(arr)) # 10\n",
    "\n",
    "# Dizi ortalaması\n",
    "print(np.mean(arr)) # 2.5\n",
    "\n",
    "# Dizi maksimum ve minimum değerleri\n",
    "print(np.min(arr)) # 1\n",
    "print(np.max(arr)) # 4\n",
    "\n",
    "# Dizi standard sapması\n",
    "print(np.std(arr))"
   ]
  },
  {
   "cell_type": "markdown",
   "metadata": {},
   "source": [
    "## 3.8 İndeksleme ve Dilimleme\n",
    "\n",
    "### 3.8.1 İndeksleme\n",
    "NumPy dizilerinde indeksleme Python listelerine benzer şekilde çalışır."
   ]
  },
  {
   "cell_type": "code",
   "execution_count": null,
   "metadata": {},
   "outputs": [],
   "source": [
    "arr = np.array([1, 2, 3, 4, 5])\n",
    "\n",
    "# Tek bir öğeye erişim\n",
    "print(arr[0]) # 1\n",
    "\n",
    "# Negatif indeksleme (sondan başlayarak)\n",
    "print(arr[-1]) # 5"
   ]
  },
  {
   "cell_type": "markdown",
   "metadata": {},
   "source": [
    "### 3.8.2 Dilimleme\n",
    "Dilimleme, dizinin belirli bir bölümünü elde etmek için kullanılır."
   ]
  },
  {
   "cell_type": "code",
   "execution_count": null,
   "metadata": {},
   "outputs": [],
   "source": [
    "arr = np.array([1, 2, 3, 4, 5])\n",
    "\n",
    "# Belirli bir aralık\n",
    "print(arr[1:4]) # [2 3 4]\n",
    "\n",
    "# Belirli bir aralık ve adım sayısı\n",
    "print(arr[::2]) # [1 3 5]"
   ]
  },
  {
   "cell_type": "markdown",
   "metadata": {},
   "source": [
    "## 3.9 Matrix Product"
   ]
  },
  {
   "cell_type": "code",
   "execution_count": null,
   "metadata": {},
   "outputs": [],
   "source": [
    "A = np.array([[1, 2], [3, 4]])\n",
    "B = np.array([[5, 6], [7, 8]])\n",
    "\n",
    "# Matris çarpımı\n",
    "result = np.dot(A, B)\n",
    "print(result)\n",
    "# [[19 22]\n",
    "#  [43 50]]"
   ]
  },
  {
   "cell_type": "markdown",
   "metadata": {},
   "source": [
    "## 3.Alıştırmalar\n",
    "1. 1'den 10'a kadar sayıları içeren bir NumPy dizisi oluşturun.\n",
    "\n",
    "2. Bu diziyi 2x5'lik bir matrise dönüştürün.\n",
    "\n",
    "3. Matrisin devriğini alın.\n",
    "\n",
    "4. İki matrisin çarpımını hesaplayın.\n",
    "\n",
    "5. Bir dizinin ortalamasını ve standart sapmasını hesaplayın."
   ]
  },
  {
   "cell_type": "markdown",
   "metadata": {},
   "source": [
    "Daha fazla bilgi için [NumPy dokümantasyonuna](https://numpy.org/doc/stable/reference/#)\n",
    "göz atabilirsiniz."
   ]
  }
 ],
 "metadata": {
  "kernelspec": {
   "display_name": "Python 3",
   "language": "python",
   "name": "python3"
  },
  "language_info": {
   "codemirror_mode": {
    "name": "ipython",
    "version": 3
   },
   "file_extension": ".py",
   "mimetype": "text/x-python",
   "name": "python",
   "nbconvert_exporter": "python",
   "pygments_lexer": "ipython3",
   "version": "3.12.8"
  }
 },
 "nbformat": 4,
 "nbformat_minor": 2
}
